{
  "nbformat": 4,
  "nbformat_minor": 0,
  "metadata": {
    "kernelspec": {
      "display_name": "Python 3",
      "language": "python",
      "name": "python3"
    },
    "language_info": {
      "codemirror_mode": {
        "name": "ipython",
        "version": 3
      },
      "file_extension": ".py",
      "mimetype": "text/x-python",
      "name": "python",
      "nbconvert_exporter": "python",
      "pygments_lexer": "ipython3",
      "version": "3.7.6"
    },
    "colab": {
      "name": "IITB_Deep Learning and MNIST Data Classification.ipynb",
      "provenance": [],
      "include_colab_link": true
    }
  },
  "cells": [
    {
      "cell_type": "markdown",
      "metadata": {
        "id": "view-in-github",
        "colab_type": "text"
      },
      "source": [
        "<a href=\"https://colab.research.google.com/github/krishbhowmick/IITB_DataScienceTraining/blob/main/IITB_Deep_Learning_and_MNIST_Data_Classification.ipynb\" target=\"_parent\"><img src=\"https://colab.research.google.com/assets/colab-badge.svg\" alt=\"Open In Colab\"/></a>"
      ]
    },
    {
      "cell_type": "code",
      "metadata": {
        "id": "ikk8LlMXVBgT"
      },
      "source": [
        "#from google.colab import drive\n",
        "#drive.mount('/content/drive/') "
      ],
      "execution_count": null,
      "outputs": []
    },
    {
      "cell_type": "code",
      "metadata": {
        "id": "58gXgoNIt3xg"
      },
      "source": [
        "from tensorflow.keras.models import Sequential  #\n",
        "from tensorflow.keras.layers import Dense"
      ],
      "execution_count": null,
      "outputs": []
    },
    {
      "cell_type": "code",
      "metadata": {
        "id": "dgsKPaHCVBgd"
      },
      "source": [
        "from sklearn.datasets import fetch_openml\n",
        "from sklearn.model_selection import train_test_split"
      ],
      "execution_count": null,
      "outputs": []
    },
    {
      "cell_type": "code",
      "metadata": {
        "id": "p_HdtvQHVBgj"
      },
      "source": [
        "from tensorflow.keras.utils import normalize, to_categorical"
      ],
      "execution_count": null,
      "outputs": []
    },
    {
      "cell_type": "code",
      "metadata": {
        "id": "Xn_fJWzZVBgo"
      },
      "source": [
        "mnist = fetch_openml(\"mnist_784\")        #Call the data"
      ],
      "execution_count": null,
      "outputs": []
    },
    {
      "cell_type": "code",
      "metadata": {
        "id": "12kAvgGxVBgx"
      },
      "source": [
        "data = mnist.data                        #\n",
        "target = mnist.target.astype(\"int\")      # Target"
      ],
      "execution_count": null,
      "outputs": []
    },
    {
      "cell_type": "code",
      "metadata": {
        "id": "xl4Ldj88VBg3",
        "colab": {
          "base_uri": "https://localhost:8080/",
          "height": 136
        },
        "outputId": "1583a772-17da-4267-c528-c6e0820bcd63"
      },
      "source": [
        "Data = normalize(data)                   # Normalization(0 to 1)\n",
        "Data"
      ],
      "execution_count": null,
      "outputs": [
        {
          "output_type": "execute_result",
          "data": {
            "text/plain": [
              "array([[0., 0., 0., ..., 0., 0., 0.],\n",
              "       [0., 0., 0., ..., 0., 0., 0.],\n",
              "       [0., 0., 0., ..., 0., 0., 0.],\n",
              "       ...,\n",
              "       [0., 0., 0., ..., 0., 0., 0.],\n",
              "       [0., 0., 0., ..., 0., 0., 0.],\n",
              "       [0., 0., 0., ..., 0., 0., 0.]])"
            ]
          },
          "metadata": {
            "tags": []
          },
          "execution_count": 7
        }
      ]
    },
    {
      "cell_type": "code",
      "metadata": {
        "id": "8m3iHGKDVBg-"
      },
      "source": [
        "Target = to_categorical(target)          # Converts a class vector (integers) to binary class matrix."
      ],
      "execution_count": null,
      "outputs": []
    },
    {
      "cell_type": "code",
      "metadata": {
        "id": "jZWKPHWdVBhF",
        "colab": {
          "base_uri": "https://localhost:8080/",
          "height": 34
        },
        "outputId": "b97b5700-9606-448e-8177-49a4ed757b32"
      },
      "source": [
        "Target[0]"
      ],
      "execution_count": null,
      "outputs": [
        {
          "output_type": "execute_result",
          "data": {
            "text/plain": [
              "array([0., 0., 0., 0., 0., 1., 0., 0., 0., 0.], dtype=float32)"
            ]
          },
          "metadata": {
            "tags": []
          },
          "execution_count": 9
        }
      ]
    },
    {
      "cell_type": "code",
      "metadata": {
        "id": "0GmdlHO2VBhP"
      },
      "source": [
        "trainX, testX, trainY, testY = train_test_split(Data, Target, test_size = 0.3)   #Split the data"
      ],
      "execution_count": null,
      "outputs": []
    },
    {
      "cell_type": "markdown",
      "metadata": {
        "id": "Bj1j4t_cVBhU"
      },
      "source": [
        "## Creating A Deep Neural Network"
      ]
    },
    {
      "cell_type": "code",
      "metadata": {
        "id": "W85efPeuVBhV"
      },
      "source": [
        "#from tensorflow.keras.models import Sequential  #\n",
        "#from tensorflow.keras.layers import Dense\n",
        "\n",
        "model = Sequential()                                              # For Sequence\n",
        "model.add(Dense(784, activation = \"relu\", input_shape = (784,)))  # Input Layer \n",
        "model.add(Dense(512, activation = \"relu\"))                        # Hidden Layer\n",
        "model.add(Dense(64, activation = \"relu\"))                         # Hidden Layer - 2\n",
        "model.add(Dense(10, activation = \"softmax\"))                      # Output Layer\n"
      ],
      "execution_count": null,
      "outputs": []
    },
    {
      "cell_type": "code",
      "metadata": {
        "id": "nA6ufXRVVBha"
      },
      "source": [
        "model.compile(loss=\"categorical_crossentropy\", optimizer=\"adam\", metrics=[\"accuracy\"]) # Add loss function, Optimizer and all"
      ],
      "execution_count": null,
      "outputs": []
    },
    {
      "cell_type": "code",
      "metadata": {
        "id": "cxmxaoTbVBhg",
        "colab": {
          "base_uri": "https://localhost:8080/",
          "height": 357
        },
        "outputId": "e7f981e0-5ee3-4017-c3b7-d7cac370d4c1"
      },
      "source": [
        "H = model.fit(trainX, trainY, epochs=10, batch_size=32, validation_data=(testX, testY)) # Training the Model"
      ],
      "execution_count": null,
      "outputs": [
        {
          "output_type": "stream",
          "text": [
            "Epoch 1/10\n",
            "1532/1532 [==============================] - 18s 11ms/step - loss: 0.2459 - accuracy: 0.9245 - val_loss: 0.1270 - val_accuracy: 0.9613\n",
            "Epoch 2/10\n",
            "1532/1532 [==============================] - 18s 12ms/step - loss: 0.0974 - accuracy: 0.9696 - val_loss: 0.0955 - val_accuracy: 0.9698\n",
            "Epoch 3/10\n",
            "1532/1532 [==============================] - 18s 11ms/step - loss: 0.0627 - accuracy: 0.9806 - val_loss: 0.0939 - val_accuracy: 0.9738\n",
            "Epoch 4/10\n",
            "1532/1532 [==============================] - 18s 11ms/step - loss: 0.0469 - accuracy: 0.9850 - val_loss: 0.0883 - val_accuracy: 0.9758\n",
            "Epoch 5/10\n",
            "1532/1532 [==============================] - 17s 11ms/step - loss: 0.0354 - accuracy: 0.9883 - val_loss: 0.0885 - val_accuracy: 0.9755\n",
            "Epoch 6/10\n",
            "1532/1532 [==============================] - 17s 11ms/step - loss: 0.0303 - accuracy: 0.9900 - val_loss: 0.0780 - val_accuracy: 0.9795\n",
            "Epoch 7/10\n",
            "1532/1532 [==============================] - 18s 11ms/step - loss: 0.0246 - accuracy: 0.9922 - val_loss: 0.0976 - val_accuracy: 0.9744\n",
            "Epoch 8/10\n",
            "1532/1532 [==============================] - 17s 11ms/step - loss: 0.0201 - accuracy: 0.9936 - val_loss: 0.0849 - val_accuracy: 0.9790\n",
            "Epoch 9/10\n",
            "1532/1532 [==============================] - 18s 11ms/step - loss: 0.0178 - accuracy: 0.9945 - val_loss: 0.0906 - val_accuracy: 0.9788\n",
            "Epoch 10/10\n",
            "1532/1532 [==============================] - 17s 11ms/step - loss: 0.0190 - accuracy: 0.9940 - val_loss: 0.0810 - val_accuracy: 0.9820\n"
          ],
          "name": "stdout"
        }
      ]
    },
    {
      "cell_type": "markdown",
      "metadata": {
        "id": "Cv_trgceVBhm"
      },
      "source": [
        "## Save Model"
      ]
    },
    {
      "cell_type": "code",
      "metadata": {
        "id": "04Ld05wRVBhn"
      },
      "source": [
        "model.save(\"MNIST_With_Deep_Learning.h5\")"
      ],
      "execution_count": null,
      "outputs": []
    },
    {
      "cell_type": "markdown",
      "metadata": {
        "id": "RddBOFQJVBht"
      },
      "source": [
        "## Load Trained Model"
      ]
    },
    {
      "cell_type": "code",
      "metadata": {
        "id": "nxL4mSZAVBhu"
      },
      "source": [
        "from tensorflow.keras.models import load_model\n",
        "model = load_model(\"MNIST_With_Deep_Learning.h5\")"
      ],
      "execution_count": null,
      "outputs": []
    },
    {
      "cell_type": "code",
      "metadata": {
        "id": "AySZq5RNVBhz"
      },
      "source": [
        "#!pip install keras"
      ],
      "execution_count": null,
      "outputs": []
    },
    {
      "cell_type": "code",
      "metadata": {
        "id": "0FDpll14VBh5"
      },
      "source": [
        "\n"
      ],
      "execution_count": null,
      "outputs": []
    },
    {
      "cell_type": "code",
      "metadata": {
        "id": "wwEbh3QoVBh-"
      },
      "source": [
        ""
      ],
      "execution_count": null,
      "outputs": []
    },
    {
      "cell_type": "code",
      "metadata": {
        "id": "JB60f9H0VBiE"
      },
      "source": [
        ""
      ],
      "execution_count": null,
      "outputs": []
    }
  ]
}